{
 "cells": [
  {
   "cell_type": "code",
   "execution_count": 1,
   "id": "48fa2337",
   "metadata": {},
   "outputs": [],
   "source": [
    "from Modules.BoardClass import board\n",
    "from Modules.Evolver import evolve\n",
    "from numpy import random, ones\n",
    "import matplotlib.pyplot as plt\n",
    "import matplotlib.animation as animation"
   ]
  },
  {
   "cell_type": "code",
   "execution_count": 2,
   "id": "4baacd8a",
   "metadata": {},
   "outputs": [
    {
     "data": {
      "text/plain": [
       "array([[1., 1., 1., 1., 1., 1., 1., 1., 1.],\n",
       "       [1., 1., 1., 1., 1., 1., 1., 1., 1.],\n",
       "       [1., 1., 1., 1., 1., 1., 1., 1., 1.],\n",
       "       [1., 1., 1., 1., 1., 1., 1., 1., 1.],\n",
       "       [1., 1., 1., 1., 1., 1., 1., 1., 1.],\n",
       "       [1., 1., 1., 1., 1., 1., 1., 1., 1.],\n",
       "       [1., 1., 1., 1., 1., 1., 1., 1., 1.],\n",
       "       [1., 1., 1., 1., 1., 1., 1., 1., 1.],\n",
       "       [1., 1., 1., 1., 1., 1., 1., 1., 1.]])"
      ]
     },
     "execution_count": 2,
     "metadata": {},
     "output_type": "execute_result"
    }
   ],
   "source": [
    "rand =  random.randint(low = 1, high = 9, size = (9,9))\n",
    "b1 = board(init_state =ones((9,9)), init_temp = 0.3 * ones((9,9)))\n",
    "b1.state"
   ]
  },
  {
   "cell_type": "code",
   "execution_count": 3,
   "id": "ff50175f",
   "metadata": {},
   "outputs": [
    {
     "name": "stderr",
     "output_type": "stream",
     "text": [
      "Random walk progression:  48%|█████▊      | 4834/10000 [00:19<00:20, 246.69it/s]\n"
     ]
    },
    {
     "ename": "KeyboardInterrupt",
     "evalue": "",
     "output_type": "error",
     "traceback": [
      "\u001b[0;31m---------------------------------------------------------------------------\u001b[0m",
      "\u001b[0;31mKeyboardInterrupt\u001b[0m                         Traceback (most recent call last)",
      "Cell \u001b[0;32mIn[3], line 2\u001b[0m\n\u001b[1;32m      1\u001b[0m steps \u001b[38;5;241m=\u001b[39m \u001b[38;5;241m10000\u001b[39m\n\u001b[0;32m----> 2\u001b[0m table_log, energy_log \u001b[38;5;241m=\u001b[39m evolve(b1, steps)\n\u001b[1;32m      3\u001b[0m plt\u001b[38;5;241m.\u001b[39mfigure()\n\u001b[1;32m      4\u001b[0m plt\u001b[38;5;241m.\u001b[39mplot(energy_log)\n",
      "File \u001b[0;32m~/Desktop/University/PyFiles/Various Python Projects/For Fun/ThermalSudoku/Modules/Evolver.py:28\u001b[0m, in \u001b[0;36mevolve\u001b[0;34m(board_obj, steps, kb, row_col_constant, sub_board_constant)\u001b[0m\n\u001b[1;32m     25\u001b[0m new_board \u001b[38;5;241m=\u001b[39m board(init_state \u001b[38;5;241m=\u001b[39m tmp)\n\u001b[1;32m     27\u001b[0m current_en \u001b[38;5;241m=\u001b[39m energy_log[n]\n\u001b[0;32m---> 28\u001b[0m new_en \u001b[38;5;241m=\u001b[39m new_board\u001b[38;5;241m.\u001b[39mget_energy(row_col_constant \u001b[38;5;241m=\u001b[39m row_col_constant, \n\u001b[1;32m     29\u001b[0m                               sub_board_constant \u001b[38;5;241m=\u001b[39m sub_board_constant)\n\u001b[1;32m     30\u001b[0m delta_en \u001b[38;5;241m=\u001b[39m new_en \u001b[38;5;241m-\u001b[39m current_en\n\u001b[1;32m     31\u001b[0m \u001b[38;5;28;01mif\u001b[39;00m  delta_en \u001b[38;5;241m<\u001b[39m \u001b[38;5;241m0\u001b[39m:\n",
      "File \u001b[0;32m~/Desktop/University/PyFiles/Various Python Projects/For Fun/ThermalSudoku/Modules/BoardClass.py:62\u001b[0m, in \u001b[0;36mboard.get_energy\u001b[0;34m(self, row_col_constant, sub_board_constant)\u001b[0m\n\u001b[1;32m     60\u001b[0m     col_counts \u001b[38;5;241m+\u001b[39m\u001b[38;5;241m=\u001b[39m counts\u001b[38;5;241m.\u001b[39msum()\n\u001b[1;32m     61\u001b[0m \u001b[38;5;28;01mfor\u001b[39;00m sub_board \u001b[38;5;129;01min\u001b[39;00m sub_boards:\n\u001b[0;32m---> 62\u001b[0m     counts \u001b[38;5;241m=\u001b[39m array([sub_board_constant \u001b[38;5;241m*\u001b[39m count_nonzero(sub_board \u001b[38;5;241m==\u001b[39m val) \u001b[38;5;28;01mfor\u001b[39;00m val \u001b[38;5;129;01min\u001b[39;00m possible_vals])\n\u001b[1;32m     63\u001b[0m     counts[where(counts \u001b[38;5;241m==\u001b[39m \u001b[38;5;241m1\u001b[39m)] \u001b[38;5;241m=\u001b[39m \u001b[38;5;241m0\u001b[39m\n\u001b[1;32m     64\u001b[0m     sub_boards_counts \u001b[38;5;241m+\u001b[39m\u001b[38;5;241m=\u001b[39m counts\u001b[38;5;241m.\u001b[39msum()\n",
      "File \u001b[0;32m~/Desktop/University/PyFiles/Various Python Projects/For Fun/ThermalSudoku/Modules/BoardClass.py:62\u001b[0m, in \u001b[0;36m<listcomp>\u001b[0;34m(.0)\u001b[0m\n\u001b[1;32m     60\u001b[0m     col_counts \u001b[38;5;241m+\u001b[39m\u001b[38;5;241m=\u001b[39m counts\u001b[38;5;241m.\u001b[39msum()\n\u001b[1;32m     61\u001b[0m \u001b[38;5;28;01mfor\u001b[39;00m sub_board \u001b[38;5;129;01min\u001b[39;00m sub_boards:\n\u001b[0;32m---> 62\u001b[0m     counts \u001b[38;5;241m=\u001b[39m array([sub_board_constant \u001b[38;5;241m*\u001b[39m count_nonzero(sub_board \u001b[38;5;241m==\u001b[39m val) \u001b[38;5;28;01mfor\u001b[39;00m val \u001b[38;5;129;01min\u001b[39;00m possible_vals])\n\u001b[1;32m     63\u001b[0m     counts[where(counts \u001b[38;5;241m==\u001b[39m \u001b[38;5;241m1\u001b[39m)] \u001b[38;5;241m=\u001b[39m \u001b[38;5;241m0\u001b[39m\n\u001b[1;32m     64\u001b[0m     sub_boards_counts \u001b[38;5;241m+\u001b[39m\u001b[38;5;241m=\u001b[39m counts\u001b[38;5;241m.\u001b[39msum()\n",
      "File \u001b[0;32m~/miniconda3/envs/main/lib/python3.11/site-packages/numpy/core/numeric.py:411\u001b[0m, in \u001b[0;36m_count_nonzero_dispatcher\u001b[0;34m(a, axis, keepdims)\u001b[0m\n\u001b[1;32m    407\u001b[0m     multiarray\u001b[38;5;241m.\u001b[39mcopyto(res, fill_value, casting\u001b[38;5;241m=\u001b[39m\u001b[38;5;124m'\u001b[39m\u001b[38;5;124munsafe\u001b[39m\u001b[38;5;124m'\u001b[39m)\n\u001b[1;32m    408\u001b[0m     \u001b[38;5;28;01mreturn\u001b[39;00m res\n\u001b[0;32m--> 411\u001b[0m \u001b[38;5;28;01mdef\u001b[39;00m \u001b[38;5;21m_count_nonzero_dispatcher\u001b[39m(a, axis\u001b[38;5;241m=\u001b[39m\u001b[38;5;28;01mNone\u001b[39;00m, \u001b[38;5;241m*\u001b[39m, keepdims\u001b[38;5;241m=\u001b[39m\u001b[38;5;28;01mNone\u001b[39;00m):\n\u001b[1;32m    412\u001b[0m     \u001b[38;5;28;01mreturn\u001b[39;00m (a,)\n\u001b[1;32m    415\u001b[0m \u001b[38;5;129m@array_function_dispatch\u001b[39m(_count_nonzero_dispatcher)\n\u001b[1;32m    416\u001b[0m \u001b[38;5;28;01mdef\u001b[39;00m \u001b[38;5;21mcount_nonzero\u001b[39m(a, axis\u001b[38;5;241m=\u001b[39m\u001b[38;5;28;01mNone\u001b[39;00m, \u001b[38;5;241m*\u001b[39m, keepdims\u001b[38;5;241m=\u001b[39m\u001b[38;5;28;01mFalse\u001b[39;00m):\n",
      "\u001b[0;31mKeyboardInterrupt\u001b[0m: "
     ]
    }
   ],
   "source": [
    "steps = 10000\n",
    "table_log, energy_log = evolve(b1, steps)\n",
    "plt.figure()\n",
    "plt.plot(energy_log)"
   ]
  },
  {
   "cell_type": "code",
   "execution_count": null,
   "id": "c3e5b1fc",
   "metadata": {},
   "outputs": [],
   "source": [
    "%matplotlib notebook\n",
    "frames = [] # for storing the generated images\n",
    "fig = plt.figure()\n",
    "for i in range(steps):\n",
    "    frames.append([plt.imshow(table_log[i],animated=True)])\n",
    "ani = animation.ArtistAnimation(fig, frames, interval=7, blit=True,\n",
    "                                repeat_delay=1000)\n",
    "\n",
    "writergif = animation.PillowWriter(fps=30)\n",
    "ani.save('/home/francesco/Desktop/movie.gif', writer=writergif) \n",
    "plt.show()\n"
   ]
  },
  {
   "cell_type": "code",
   "execution_count": null,
   "id": "7a034a6f",
   "metadata": {},
   "outputs": [],
   "source": [
    "plt.plot(energy_log)"
   ]
  },
  {
   "cell_type": "code",
   "execution_count": null,
   "id": "44ce362c",
   "metadata": {},
   "outputs": [],
   "source": []
  }
 ],
 "metadata": {
  "kernelspec": {
   "display_name": "Python 3 (ipykernel)",
   "language": "python",
   "name": "python3"
  },
  "language_info": {
   "codemirror_mode": {
    "name": "ipython",
    "version": 3
   },
   "file_extension": ".py",
   "mimetype": "text/x-python",
   "name": "python",
   "nbconvert_exporter": "python",
   "pygments_lexer": "ipython3",
   "version": "3.11.4"
  }
 },
 "nbformat": 4,
 "nbformat_minor": 5
}
